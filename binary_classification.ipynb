{
 "cells": [
  {
   "cell_type": "markdown",
   "id": "fe1d5e74-bb7b-47da-8b66-331dcfe9dc9e",
   "metadata": {},
   "source": [
    "# Binary classification coutnerfactual generation \n",
    "\n",
    "The notebook shows the progress of generating counterfactuals for binary classification. It uses adult dataset, enclosed in the repository, but any data would work. "
   ]
  },
  {
   "cell_type": "code",
   "execution_count": 1,
   "id": "e23633b5-8bae-47a1-99e3-59d6848a058a",
   "metadata": {},
   "outputs": [],
   "source": [
    "import numpy as np\n",
    "import pandas as pd\n",
    "from sklearn.model_selection import train_test_split\n",
    "\n",
    "from mnist import MNIST  # (this uses mnist-py package)\n",
    "\n",
    "from textualizer import Textualizer\n",
    "from nn_model import NNModel\n",
    "from counterfactual_generator import CounterfactualGenerator\n",
    "from data import MixedEncoder"
   ]
  },
  {
   "cell_type": "markdown",
   "id": "079afcde-6359-47c5-b13f-98ac24082127",
   "metadata": {},
   "source": [
    "#### Prepare the data"
   ]
  },
  {
   "cell_type": "code",
   "execution_count": 2,
   "id": "5666a1b2-0a37-4f0d-bd4c-696a3b3cfd54",
   "metadata": {},
   "outputs": [],
   "source": [
    "data = pd.read_csv('adult_frame.csv')\n",
    "model_path = \"model.pt\"\n",
    "\n",
    "# create target binary i.e. {0,1} variable to predict\n",
    "target = np.asarray(data['income'] == '>=50k', dtype=np.float32).reshape(-1, 1)"
   ]
  },
  {
   "cell_type": "markdown",
   "id": "7524a7bd-e22f-4ade-9eb6-d9d7c8d1a7eb",
   "metadata": {},
   "source": [
    "The counterfactual generator class expects an encoder \n",
    "and encoder expects a pandas dataframe, so we need to do this process.\n",
    "\n",
    "It does not change the data inside, only understands if they are categorical, numerical or mixed."
   ]
  },
  {
   "cell_type": "code",
   "execution_count": 3,
   "id": "868aa0dd-3639-431f-99ce-71fdff079bc8",
   "metadata": {},
   "outputs": [],
   "source": [
    "input_data = data[data.columns[0:8]]\n",
    "encoder = MixedEncoder(input_data)\n",
    "encoded = encoder.get_encoded_data()\n",
    "\n",
    "# partition into train and test, y ~ target, X ~ input data\n",
    "X_train, X_test, y_train, y_test = train_test_split(encoded, target, test_size=0.2, random_state=42)"
   ]
  },
  {
   "cell_type": "markdown",
   "id": "98d59683-6d1f-46dd-a95f-1c596fd54b60",
   "metadata": {},
   "source": [
    "#### Create Neural network\n",
    "Create and train the Neural Net."
   ]
  },
  {
   "cell_type": "code",
   "execution_count": 4,
   "id": "247a948c-c1a7-473c-ad43-00d3bdb09c4b",
   "metadata": {},
   "outputs": [],
   "source": [
    "model = NNModel(encoded.shape[1], hidden_sizes=[15, 10], output_size=1)\n",
    "to_train = False\n",
    "if to_train:\n",
    "    model.train(X_train, y_train, batch_size=128, epochs=50)\n",
    "    model.save(model_path)\n",
    "else:\n",
    "    model.load(model_path)"
   ]
  },
  {
   "cell_type": "code",
   "execution_count": 5,
   "id": "eb37506e-4569-46a2-99af-787a76b203aa",
   "metadata": {},
   "outputs": [
    {
     "name": "stdout",
     "output_type": "stream",
     "text": [
      "Train data:\n",
      "Testing:\n",
      "Accuracy: 83.23%\n",
      "Average loss: 0.35073863427054885\n",
      "\n",
      "Test data:\n",
      "Testing:\n",
      "Accuracy: 83.10%\n",
      "Average loss: 0.3544103077786475\n"
     ]
    }
   ],
   "source": [
    "print(\"Train data:\")\n",
    "model.test(X_train, y_train)\n",
    "print()\n",
    "print(\"Test data:\")\n",
    "model.test(X_test, y_test)"
   ]
  },
  {
   "cell_type": "markdown",
   "id": "e352482c-117b-4960-a59c-8921058cc747",
   "metadata": {},
   "source": [
    "#### Select a datapoint\n",
    "Prepare a datapoint for generating the \"counterfactual\""
   ]
  },
  {
   "cell_type": "code",
   "execution_count": 6,
   "id": "bfa67e08-26f1-478e-af38-62ae18b8c6d0",
   "metadata": {},
   "outputs": [
    {
     "name": "stdout",
     "output_type": "stream",
     "text": [
      "Prediction: 0\n",
      "True target: 0\n"
     ]
    }
   ],
   "source": [
    "selected_i = 0\n",
    "# take one from the dataset, not yet encoded\n",
    "in_data = input_data.iloc[selected_i]\n",
    "\n",
    "prediction = int(model.predict(encoder.encode_datapoint(in_data)) >= 0)\n",
    "print(\"Prediction:\", prediction)\n",
    "print(\"True target:\", int(target[selected_i][0]))"
   ]
  },
  {
   "cell_type": "markdown",
   "id": "655d5171-bdaf-4a33-9dd9-7b2c277e16b0",
   "metadata": {},
   "source": [
    "#### Generate the counterfactuals \n",
    "Within some distance relative to the objective value of the optimum"
   ]
  },
  {
   "cell_type": "code",
   "execution_count": 7,
   "id": "036a63ad-3fae-4cc2-95a5-6fdb0990c94b",
   "metadata": {},
   "outputs": [],
   "source": [
    "relative_distance_q = 1 # relative distance to optimum within which to search for "
   ]
  },
  {
   "cell_type": "code",
   "execution_count": 8,
   "id": "cbbe56ed-5c44-4b98-82d5-e9d949fb2a3f",
   "metadata": {
    "scrolled": true,
    "tags": []
   },
   "outputs": [
    {
     "name": "stdout",
     "output_type": "stream",
     "text": [
      "Restricted license - for non-production use only - expires 2024-10-28\n"
     ]
    }
   ],
   "source": [
    "cf_generator = CounterfactualGenerator(encoder)\n",
    "counterfactuals = cf_generator.generate_close_counterfactuals(in_data, \n",
    "                                                              model,\n",
    "                                                              relative_distance_q,\n",
    "                                                              verbose=False)"
   ]
  },
  {
   "cell_type": "markdown",
   "id": "173bdeee-4a10-4ac3-916c-911cec96c43f",
   "metadata": {},
   "source": [
    "Set up mapping from values to meaning of the categorical parameters"
   ]
  },
  {
   "cell_type": "code",
   "execution_count": 9,
   "id": "7b60b32d-ddfc-405a-a0b7-b375303af8e3",
   "metadata": {
    "scrolled": true,
    "tags": []
   },
   "outputs": [
    {
     "name": "stdout",
     "output_type": "stream",
     "text": [
      "You got score BAD.\n",
      "One way you could have got score GOOD instead is if:\n",
      "  marital_status had taken value Married (-4) rather than Single (-2)\n",
      "Another way you could have got score GOOD instead is if:\n",
      "  age had taken value 45.24 rather than 39.0 and \n",
      "  marital_status had taken value Married (-4) rather than Single (-2)\n",
      "Another way you could have got score GOOD instead is if:\n",
      "  age had taken value 47.44 rather than 39.0 and \n",
      "  marital_status had taken value Married (-4) rather than Single (-2)\n",
      "Another way you could have got score GOOD instead is if:\n",
      "  age had taken value 52.18 rather than 39.0 and \n",
      "  marital_status had taken value Married (-4) rather than Single (-2)\n"
     ]
    }
   ],
   "source": [
    "string_vals = {'workclass': {0: 'Government', -3: 'Other/Unknown', -2: 'Private', -1: 'Self-Employed'},\n",
    "               'education': {0: 'Assoc', -7: 'Bachelors', -6: 'Doctorate', -5: 'HS-grad', -4: 'Masters', -3: 'Prof-school', -2: 'School', -1: 'Some-college'},\n",
    "               'marital_status': {0: 'Divorced', -4: 'Married', -3: 'Separated', -2: 'Single', -1: 'Widowed'},\n",
    "               'occupation': {0: 'Blue-Collar', -5: 'Other/Unknown', -4: 'Professional', -3: 'Sales', -2: 'Service', -1: 'White-Collar'},\n",
    "               'race': {0: 'Non-White', -1: 'White'},\n",
    "               'gender': {0: 'Female', -1: 'Male'}}\n",
    "explainer = Textualizer(string_vals, encoder)\n",
    "\n",
    "\n",
    "labels = [\"BAD\", \"GOOD\"]\n",
    "for expl in explainer.formulate_list(counterfactuals, labels):\n",
    "    print(expl)"
   ]
  },
  {
   "cell_type": "markdown",
   "id": "fc404bc8-7857-4749-b1eb-4fa56d31fe27",
   "metadata": {},
   "source": [
    "Use margin to find stronger solutions, not just above the line.\n",
    "\n",
    "e. g. before the sought return value of the NN could have been $0.0001$, now it must be $\\ge 1$"
   ]
  },
  {
   "cell_type": "code",
   "execution_count": 10,
   "id": "9ca0b423-3879-4559-9840-4c0ec0c80193",
   "metadata": {},
   "outputs": [
    {
     "name": "stdout",
     "output_type": "stream",
     "text": [
      "You got score BAD.\n",
      "One way you could have got score GOOD instead is if:\n",
      "  age had taken value 53.24 rather than 39.0 and \n",
      "  marital_status had taken value Married (-4) rather than Single (-2)\n",
      "Another way you could have got score GOOD instead is if:\n",
      "  age had taken value 39.28 rather than 39.0 and \n",
      "  workclass had taken value Private (-2) rather than Government (0) and \n",
      "  marital_status had taken value Married (-4) rather than Single (-2)\n",
      "Another way you could have got score GOOD instead is if:\n",
      "  age had taken value 39.52 rather than 39.0 and \n",
      "  workclass had taken value Private (-2) rather than Government (0) and \n",
      "  marital_status had taken value Married (-4) rather than Single (-2)\n",
      "Another way you could have got score GOOD instead is if:\n",
      "  age had taken value 54.26 rather than 39.0 and \n",
      "  marital_status had taken value Married (-4) rather than Single (-2)\n",
      "Another way you could have got score GOOD instead is if:\n",
      "  age had taken value 57.39 rather than 39.0 and \n",
      "  marital_status had taken value Married (-4) rather than Single (-2)\n",
      "Another way you could have got score GOOD instead is if:\n",
      "  age had taken value 53.41 rather than 39.0 and \n",
      "  hours_per_week had taken value 42.49 rather than 40.0 and \n",
      "  marital_status had taken value Married (-4) rather than Single (-2)\n",
      "Another way you could have got score GOOD instead is if:\n",
      "  age had taken value 42.5 rather than 39.0 and \n",
      "  hours_per_week had taken value 42.26 rather than 40.0 and \n",
      "  marital_status had taken value Married (-4) rather than Single (-2) and \n",
      "  gender had taken value Female (0) rather than Male (-1)\n",
      "Another way you could have got score GOOD instead is if:\n",
      "  age had taken value 49.7 rather than 39.0 and \n",
      "  workclass had taken value Private (-2) rather than Government (0) and \n",
      "  marital_status had taken value Married (-4) rather than Single (-2)\n",
      "Another way you could have got score GOOD instead is if:\n",
      "  age had taken value 51.21 rather than 39.0 and \n",
      "  workclass had taken value Private (-2) rather than Government (0) and \n",
      "  marital_status had taken value Married (-4) rather than Single (-2)\n",
      "Another way you could have got score GOOD instead is if:\n",
      "  workclass had taken value Private (-2) rather than Government (0) and \n",
      "  marital_status had taken value Married (-4) rather than Single (-2) and \n",
      "  gender had taken value Female (0) rather than Male (-1)\n"
     ]
    }
   ],
   "source": [
    "cf_margin = 1 # margin represents the distance between best and second best class \n",
    "counterfactuals = cf_generator.generate_close_counterfactuals(in_data, \n",
    "                                                              model,\n",
    "                                                              relative_distance_q, \n",
    "                                                              verbose=False, \n",
    "                                                              cf_margin=cf_margin)\n",
    "\n",
    "for expl in explainer.formulate_list(counterfactuals, labels):\n",
    "    print(expl)\n"
   ]
  },
  {
   "cell_type": "markdown",
   "id": "a141ea6b-4fe9-4a18-913a-eb5525d119ee",
   "metadata": {},
   "source": [
    "You can set the limit on the maximum number of generated couterfactuals."
   ]
  },
  {
   "cell_type": "code",
   "execution_count": 11,
   "id": "6d0a2544-8d82-4b3f-8606-71080e67b67f",
   "metadata": {},
   "outputs": [
    {
     "name": "stdout",
     "output_type": "stream",
     "text": [
      "You got score BAD.\n",
      "One way you could have got score GOOD instead is if:\n",
      "  age had taken value 53.24 rather than 39.0 and \n",
      "  marital_status had taken value Married (-4) rather than Single (-2)\n",
      "Another way you could have got score GOOD instead is if:\n",
      "  age had taken value 39.28 rather than 39.0 and \n",
      "  workclass had taken value Private (-2) rather than Government (0) and \n",
      "  marital_status had taken value Married (-4) rather than Single (-2)\n",
      "Another way you could have got score GOOD instead is if:\n",
      "  age had taken value 39.52 rather than 39.0 and \n",
      "  workclass had taken value Private (-2) rather than Government (0) and \n",
      "  marital_status had taken value Married (-4) rather than Single (-2)\n",
      "Another way you could have got score GOOD instead is if:\n",
      "  age had taken value 54.26 rather than 39.0 and \n",
      "  marital_status had taken value Married (-4) rather than Single (-2)\n",
      "Another way you could have got score GOOD instead is if:\n",
      "  age had taken value 57.39 rather than 39.0 and \n",
      "  marital_status had taken value Married (-4) rather than Single (-2)\n"
     ]
    }
   ],
   "source": [
    "counterfactuals = cf_generator.generate_close_counterfactuals(in_data, \n",
    "                                                              model,\n",
    "                                                              relative_distance_q, \n",
    "                                                              verbose=False, \n",
    "                                                              n_limit=5,\n",
    "                                                              cf_margin=cf_margin)\n",
    "\n",
    "for expl in explainer.formulate_list(counterfactuals, labels):\n",
    "    print(expl)"
   ]
  },
  {
   "cell_type": "code",
   "execution_count": null,
   "id": "02ef44d3-734d-4035-8db9-7816639c167c",
   "metadata": {},
   "outputs": [],
   "source": []
  }
 ],
 "metadata": {
  "kernelspec": {
   "display_name": "Python 3 (ipykernel)",
   "language": "python",
   "name": "python3"
  },
  "language_info": {
   "codemirror_mode": {
    "name": "ipython",
    "version": 3
   },
   "file_extension": ".py",
   "mimetype": "text/x-python",
   "name": "python",
   "nbconvert_exporter": "python",
   "pygments_lexer": "ipython3",
   "version": "3.10.4"
  }
 },
 "nbformat": 4,
 "nbformat_minor": 5
}
