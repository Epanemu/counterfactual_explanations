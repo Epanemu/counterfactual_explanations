{
 "cells": [
  {
   "cell_type": "markdown",
   "id": "fe1d5e74-bb7b-47da-8b66-331dcfe9dc9e",
   "metadata": {},
   "source": [
    "# Multi class coutnerfactual generation \n",
    "\n",
    "The notebook shows the progress of generating counterfactuals for a mutli class classification. It uses well known MNIST dataset, but any data would work. It would even be more appropriate to use some standard tabular data. "
   ]
  },
  {
   "cell_type": "code",
   "execution_count": 1,
   "id": "e23633b5-8bae-47a1-99e3-59d6848a058a",
   "metadata": {},
   "outputs": [],
   "source": [
    "import numpy as np\n",
    "import pandas as pd\n",
    "from matplotlib import pyplot as plt\n",
    "\n",
    "from mnist import MNIST  # (this uses mnist-py package)\n",
    "\n",
    "from nn_model import NNModel\n",
    "from counterfactual_generator import CounterfactualGenerator\n",
    "from data import MixedEncoder"
   ]
  },
  {
   "cell_type": "markdown",
   "id": "079afcde-6359-47c5-b13f-98ac24082127",
   "metadata": {},
   "source": [
    "#### Prepare the data"
   ]
  },
  {
   "cell_type": "code",
   "execution_count": 2,
   "id": "5666a1b2-0a37-4f0d-bd4c-696a3b3cfd54",
   "metadata": {},
   "outputs": [],
   "source": [
    "mnist_data = MNIST()\n",
    "model_path = \"model_mnist_small.pt\"\n",
    "\n",
    "# take just every 10th pixel, I do not have license installed for big models right now\n",
    "X_train = mnist_data.train_set.images[:, ::10]  \n",
    "X_test = mnist_data.test_set.images[:, ::10]\n",
    "# X_train = mnist_data.train_set.images  \n",
    "# X_test = mnist_data.test_set.images\n",
    "y_train = np.argmax(mnist_data.train_set.labels, axis=1)\n",
    "y_test = np.argmax(mnist_data.test_set.labels, axis=1)"
   ]
  },
  {
   "cell_type": "markdown",
   "id": "7524a7bd-e22f-4ade-9eb6-d9d7c8d1a7eb",
   "metadata": {},
   "source": [
    "The counterfactual generator class expects an encoder \n",
    "and encoder expects a pandas dataframe, so we need to do this process.\n",
    "\n",
    "It does not change the data inside, only understands if they are categorical, numerical or mixed."
   ]
  },
  {
   "cell_type": "code",
   "execution_count": 3,
   "id": "868aa0dd-3639-431f-99ce-71fdff079bc8",
   "metadata": {},
   "outputs": [],
   "source": [
    "mnist_df = pd.DataFrame(X_train)\n",
    "mnist_df.columns = [f\"Pixel {i*10 // 28}x{i*10 % 28}\" for i in range(len(mnist_df.columns))]\n",
    "encoder = MixedEncoder(mnist_df)\n",
    "encoded = encoder.get_encoded_data()"
   ]
  },
  {
   "cell_type": "markdown",
   "id": "98d59683-6d1f-46dd-a95f-1c596fd54b60",
   "metadata": {},
   "source": [
    "#### Create Neural network\n",
    "Create and train the Neural Net."
   ]
  },
  {
   "cell_type": "code",
   "execution_count": 4,
   "id": "247a948c-c1a7-473c-ad43-00d3bdb09c4b",
   "metadata": {},
   "outputs": [],
   "source": [
    "model = NNModel(encoded.shape[1], hidden_sizes=[30, 15], output_size=10)\n",
    "to_train = False\n",
    "if to_train:\n",
    "    model.train(X_train, y_train, batch_size=128, epochs=50)\n",
    "    model.save(model_path)\n",
    "else:\n",
    "    model.load(model_path)"
   ]
  },
  {
   "cell_type": "code",
   "execution_count": 5,
   "id": "eb37506e-4569-46a2-99af-787a76b203aa",
   "metadata": {},
   "outputs": [
    {
     "name": "stdout",
     "output_type": "stream",
     "text": [
      "Train data:\n",
      "Testing:\n",
      "Accuracy: 91.43%\n",
      "Average loss: 0.2666718018141866\n",
      "\n",
      "Test data:\n",
      "Testing:\n",
      "Accuracy: 91.12%\n",
      "Average loss: 0.2840216462547833\n"
     ]
    }
   ],
   "source": [
    "print(\"Train data:\")\n",
    "model.test(X_train, y_train)\n",
    "print()\n",
    "print(\"Test data:\")\n",
    "model.test(X_test, y_test)"
   ]
  },
  {
   "cell_type": "markdown",
   "id": "e352482c-117b-4960-a59c-8921058cc747",
   "metadata": {},
   "source": [
    "#### Select a datapoint\n",
    "Prepare a datapoint for generating the \"counterfactual\""
   ]
  },
  {
   "cell_type": "code",
   "execution_count": 6,
   "id": "bfa67e08-26f1-478e-af38-62ae18b8c6d0",
   "metadata": {},
   "outputs": [
    {
     "name": "stdout",
     "output_type": "stream",
     "text": [
      "Prediction: 7\n",
      "True target: 7\n"
     ]
    }
   ],
   "source": [
    "selected_i = 0 # 0 to 9999\n",
    "in_data = X_test[selected_i]\n",
    "\n",
    "prediction = np.argmax(model.predict(encoder.encode_datapoint(in_data)))\n",
    "print(\"Prediction:\", prediction)\n",
    "print(\"True target:\", y_test[selected_i])"
   ]
  },
  {
   "cell_type": "code",
   "execution_count": 7,
   "id": "adf23638-1110-4f3d-b044-30534a44b762",
   "metadata": {},
   "outputs": [
    {
     "data": {
      "text/plain": [
       "<matplotlib.image.AxesImage at 0x7f26e2b3aec0>"
      ]
     },
     "execution_count": 7,
     "metadata": {},
     "output_type": "execute_result"
    },
    {
     "data": {
      "image/png": "[encoded data removed]",
      "text/plain": [
       "<Figure size 432x288 with 1 Axes>"
      ]
     },
     "metadata": {
      "needs_background": "light"
     },
     "output_type": "display_data"
    }
   ],
   "source": [
    "plt.imshow(mnist_data.test_set.images[selected_i].reshape((28, 28)), cmap=\"gray\")"
   ]
  },
  {
   "cell_type": "markdown",
   "id": "655d5171-bdaf-4a33-9dd9-7b2c277e16b0",
   "metadata": {},
   "source": [
    "#### Generate the counterfactuals "
   ]
  },
  {
   "cell_type": "code",
   "execution_count": 8,
   "id": "036a63ad-3fae-4cc2-95a5-6fdb0990c94b",
   "metadata": {},
   "outputs": [],
   "source": [
    "relative_distance_q = 0.1 # relative distance to optimum within which to search for \n",
    "cf_margin = 0.1 # margin represents the distance between best and second best class \n",
    "\n",
    "counter_class = (prediction + 5) % 10 # generate images with this class"
   ]
  },
  {
   "cell_type": "code",
   "execution_count": 9,
   "id": "cbbe56ed-5c44-4b98-82d5-e9d949fb2a3f",
   "metadata": {
    "scrolled": true,
    "tags": []
   },
   "outputs": [
    {
     "name": "stdout",
     "output_type": "stream",
     "text": [
      "Restricted license - for non-production use only - expires 2024-10-28\n"
     ]
    }
   ],
   "source": [
    "cf_generator = CounterfactualGenerator(encoder)\n",
    "counterfactuals = cf_generator.generate_close_counterfactuals(in_data, \n",
    "                                                              model,\n",
    "                                                              relative_distance_q, \n",
    "                                                              goal_class=counter_class, \n",
    "                                                              n_limit=100, \n",
    "                                                              verbose=False, \n",
    "                                                              cf_margin=cf_margin)"
   ]
  },
  {
   "cell_type": "code",
   "execution_count": 10,
   "id": "7b60b32d-ddfc-405a-a0b7-b375303af8e3",
   "metadata": {
    "scrolled": true,
    "tags": []
   },
   "outputs": [
    {
     "name": "stdout",
     "output_type": "stream",
     "text": [
      "The generator generated 100 closest counterfactuals.\n",
      "Showing only first 6\n"
     ]
    },
    {
     "data": {
      "image/png": "[encoded data removed]",
      "text/plain": [
       "<Figure size 1008x720 with 6 Axes>"
      ]
     },
     "metadata": {
      "needs_background": "light"
     },
     "output_type": "display_data"
    }
   ],
   "source": [
    "to_show = mnist_data.test_set.images[selected_i].copy()\n",
    "show_n = 6\n",
    "\n",
    "print(f\"The generator generated {len(counterfactuals)} closest counterfactuals.\")\n",
    "if show_n < len(counterfactuals):\n",
    "    print(f\"Showing only first {show_n}\")\n",
    "    fig, axs = plt.subplots((show_n+1) // 3, 3, figsize=(14, 10))\n",
    "else:\n",
    "    fig, axs = plt.subplots((len(counterfactuals)+1) // 3, 3, figsize=(14, 10))\n",
    "    \n",
    "for cf, ax in zip(counterfactuals[:show_n], axs.flatten()):\n",
    "    to_show[::10] = cf.counter_fact\n",
    "    \n",
    "    label = np.argmax(model.predict(cf.counter_fact.reshape(1, -1)))\n",
    "\n",
    "    ax.imshow(to_show.reshape((28, 28)), cmap=\"gray\")\n",
    "    ax.set_title(f\"labeled {label}\")\n",
    "plt.show()"
   ]
  },
  {
   "cell_type": "markdown",
   "id": "9ff34453-271b-4d6a-b911-54bdd1f46f67",
   "metadata": {},
   "source": [
    "Specific descriptions of the counterfactual changes: "
   ]
  },
  {
   "cell_type": "code",
   "execution_count": 11,
   "id": "4125d635-b745-4530-9e12-9c84387f6359",
   "metadata": {},
   "outputs": [
    {
     "name": "stdout",
     "output_type": "stream",
     "text": [
      "You got score Number 7.\n",
      "One way you could have got score Number 2 instead is if:\n",
      "  Pixel 2x14 had taken value 0.38 rather than 0.0 and \n",
      "  Pixel 5x20 had taken value 0.85 rather than 0.0 and \n",
      "  Pixel 19x8 had taken value 1.0 rather than 0.0 and \n",
      "  Pixel 20x20 had taken value 0.95 rather than 0.0\n",
      "Another way you could have got score Number 2 instead is if:\n",
      "  Pixel 2x14 had taken value 0.37 rather than 0.0 and \n",
      "  Pixel 3x16 had taken value 0.09 rather than 0.0 and \n",
      "  Pixel 5x20 had taken value 0.72 rather than 0.0 and \n",
      "  Pixel 19x8 had taken value 1.0 rather than 0.0 and \n",
      "  Pixel 20x20 had taken value 1.0 rather than 0.0\n",
      "Another way you could have got score Number 2 instead is if:\n",
      "  Pixel 2x14 had taken value 0.44 rather than 0.0 and \n",
      "  Pixel 5x20 had taken value 0.88 rather than 0.0 and \n",
      "  Pixel 19x8 had taken value 0.72 rather than 0.0 and \n",
      "  Pixel 20x20 had taken value 1.0 rather than 0.0\n",
      "Another way you could have got score Number 2 instead is if:\n",
      "  Pixel 2x14 had taken value 0.38 rather than 0.0 and \n",
      "  Pixel 3x16 had taken value 0.06 rather than 0.0 and \n",
      "  Pixel 5x20 had taken value 0.71 rather than 0.0 and \n",
      "  Pixel 19x8 had taken value 1.0 rather than 0.0 and \n",
      "  Pixel 20x20 had taken value 1.0 rather than 0.0 and \n",
      "  Pixel 22x14 had taken value 0.49 rather than 0.45\n",
      "Another way you could have got score Number 2 instead is if:\n",
      "  Pixel 2x14 had taken value 0.37 rather than 0.0 and \n",
      "  Pixel 4x18 had taken value 0.46 rather than 0.0 and \n",
      "  Pixel 5x20 had taken value 0.4 rather than 0.0 and \n",
      "  Pixel 19x8 had taken value 1.0 rather than 0.0 and \n",
      "  Pixel 20x20 had taken value 1.0 rather than 0.0\n",
      "Another way you could have got score Number 2 instead is if:\n",
      "  Pixel 2x14 had taken value 0.44 rather than 0.0 and \n",
      "  Pixel 5x20 had taken value 0.83 rather than 0.0 and \n",
      "  Pixel 14x18 had taken value 0.97 rather than 1.0 and \n",
      "  Pixel 19x8 had taken value 0.73 rather than 0.0 and \n",
      "  Pixel 20x20 had taken value 1.0 rather than 0.0\n"
     ]
    }
   ],
   "source": [
    "from textualizer import Textualizer\n",
    "\n",
    "string_vals = {}\n",
    "explainer = Textualizer(string_vals, encoder)\n",
    "\n",
    "labels = [f\"Number {i}\" for i in range(10)]\n",
    "for expl in explainer.formulate_list(counterfactuals[:show_n], labels):\n",
    "    print(expl)\n"
   ]
  },
  {
   "cell_type": "markdown",
   "id": "37418b54-3897-4d28-b119-29fc0f089d8d",
   "metadata": {},
   "source": [
    "### Generate image of any other class"
   ]
  },
  {
   "cell_type": "code",
   "execution_count": 12,
   "id": "b6989d5d-bcf4-492e-9768-ac99d211d715",
   "metadata": {},
   "outputs": [],
   "source": [
    "# just by removing the goal_class parameter \n",
    "counterfactuals = cf_generator.generate_close_counterfactuals(in_data, \n",
    "                                                              model,\n",
    "                                                              relative_distance_q, \n",
    "                                                              n_limit=100, \n",
    "                                                              verbose=False, \n",
    "                                                              cf_margin=cf_margin)"
   ]
  },
  {
   "cell_type": "code",
   "execution_count": 13,
   "id": "528b4ea1-faad-4745-8580-f34b7d42052f",
   "metadata": {},
   "outputs": [
    {
     "name": "stdout",
     "output_type": "stream",
     "text": [
      "The generator generated 26 closest counterfactuals.\n",
      "Showing only first 6\n"
     ]
    },
    {
     "data": {
      "image/png": "[encoded data removed]",
      "text/plain": [
       "<Figure size 1008x720 with 6 Axes>"
      ]
     },
     "metadata": {
      "needs_background": "light"
     },
     "output_type": "display_data"
    }
   ],
   "source": [
    "to_show = mnist_data.test_set.images[selected_i].copy()\n",
    "show_n = 6\n",
    "\n",
    "print(f\"The generator generated {len(counterfactuals)} closest counterfactuals.\")\n",
    "if show_n < len(counterfactuals):\n",
    "    print(f\"Showing only first {show_n}\")\n",
    "    fig, axs = plt.subplots((show_n+1) // 3, 3, figsize=(14, 10))\n",
    "else:\n",
    "    fig, axs = plt.subplots((len(counterfactuals)+1) // 3, 3, figsize=(14, 10))\n",
    "    \n",
    "for cf, ax in zip(counterfactuals[:show_n], axs.flatten()):\n",
    "    to_show[::10] = cf.counter_fact\n",
    "    \n",
    "    label = np.argmax(model.predict(cf.counter_fact.reshape(1, -1)))\n",
    "\n",
    "    ax.imshow(to_show.reshape((28, 28)), cmap=\"gray\")\n",
    "    ax.set_title(f\"labeled {label}\")\n",
    "plt.show()"
   ]
  },
  {
   "cell_type": "markdown",
   "id": "646fceaa-ab80-42fd-b0cc-24e2dcc6386a",
   "metadata": {},
   "source": [
    "Notice that there is less of them, even though we relaxed the conditions. This happens, because we seek solutionas within relative distance to optimum, so if this optimum is significantly lower, the previously found solutions are no longer searched. \n",
    "\n",
    "Indeed, because the relative distance quotient is low, we generate mostly countefactuals of the same kind."
   ]
  },
  {
   "cell_type": "code",
   "execution_count": 14,
   "id": "8043f309-9182-44be-9659-17e587ef044d",
   "metadata": {},
   "outputs": [
    {
     "name": "stdout",
     "output_type": "stream",
     "text": [
      "[3, 3, 3, 3, 3, 3, 3, 3, 3, 3, 3, 3, 3, 3, 3, 3, 3, 3, 3, 3, 0, 3, 3, 0, 3, 3]\n"
     ]
    }
   ],
   "source": [
    "print([cf.counter_class for cf in counterfactuals])"
   ]
  },
  {
   "cell_type": "code",
   "execution_count": null,
   "id": "766785ea-c567-4bf7-b10d-46caa9cfb0ce",
   "metadata": {},
   "outputs": [],
   "source": []
  }
 ],
 "metadata": {
  "kernelspec": {
   "display_name": "Python 3 (ipykernel)",
   "language": "python",
   "name": "python3"
  },
  "language_info": {
   "codemirror_mode": {
    "name": "ipython",
    "version": 3
   },
   "file_extension": ".py",
   "mimetype": "text/x-python",
   "name": "python",
   "nbconvert_exporter": "python",
   "pygments_lexer": "ipython3",
   "version": "3.10.4"
  }
 },
 "nbformat": 4,
 "nbformat_minor": 5
}
